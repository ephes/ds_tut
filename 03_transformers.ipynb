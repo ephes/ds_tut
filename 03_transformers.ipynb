{
 "cells": [
  {
   "cell_type": "markdown",
   "id": "a8899416-f6ba-4ea0-b841-f977867abeea",
   "metadata": {},
   "source": [
    "# transformers\n",
    "\n",
    "> Transformers for scikit-learn pipelines used for text classification."
   ]
  },
  {
   "cell_type": "code",
   "execution_count": null,
   "id": "7d531f55-50d1-452b-bacf-8a32726f4b26",
   "metadata": {},
   "outputs": [],
   "source": [
    "#| default_exp transformers"
   ]
  },
  {
   "cell_type": "raw",
   "id": "8bc4dfb1-78a4-4f7b-aa81-f51e30ac8141",
   "metadata": {},
   "source": []
  },
  {
   "cell_type": "code",
   "execution_count": null,
   "id": "a7390104-bb52-4b82-8eb4-84ab33e9d5eb",
   "metadata": {},
   "outputs": [],
   "source": [
    "#|hide\n",
    "# do not export because those are only needed when numpy and sklearn required\n",
    "\n",
    "import numpy as np\n",
    "\n",
    "from sklearn.base import BaseEstimator, TransformerMixin"
   ]
  },
  {
   "cell_type": "code",
   "execution_count": null,
   "id": "2828993e-43fa-4001-8492-966f79cac06c",
   "metadata": {},
   "outputs": [],
   "source": [
    "#| export\n",
    "\n",
    "class EmptyFitMixin:\n",
    "    def fit(self, x, y=None):\n",
    "        return self"
   ]
  },
  {
   "cell_type": "code",
   "execution_count": null,
   "id": "19f52a27-58d3-411f-b11d-75b18f0d8e81",
   "metadata": {},
   "outputs": [],
   "source": [
    "#| hide\n",
    "# do not export because this creates a sklearn dependency\n",
    "\n",
    "class TextFromColumns(EmptyFitMixin, BaseEstimator, TransformerMixin):\n",
    "    \"\"\"Extract the text from a list of columns in a single pass.\n",
    "\n",
    "    Takes a pandas dataframe and produces a series of texts\n",
    "    from joined columns defined in `text_cols`.\n",
    "    \"\"\"\n",
    "\n",
    "    def __init__(self, columns=[\"title\", \"body\"]):\n",
    "        self.text_cols = columns\n",
    "\n",
    "    def transform(self, df):\n",
    "        def join(items, axis=None):\n",
    "            return \" \".join([str(item) for item in items])\n",
    "\n",
    "        data = df[self.text_cols].apply(lambda x: \"\" if x.iloc[0] is None else x, axis=1)\n",
    "        texts = data.apply(join, axis=1)\n",
    "        return texts\n",
    "\n",
    "\n",
    "class TextFromColumns2(EmptyFitMixin, BaseEstimator, TransformerMixin):\n",
    "    \"\"\"Extract the text from a list of columns in a single pass.\n",
    "\n",
    "    Takes a pandas dataframe and produces a series of texts\n",
    "    from joined columns defined in `text_cols`.\n",
    "    \"\"\"\n",
    "    text_cols = [\"title\", \"body\"]\n",
    "\n",
    "    def transform(self, df):\n",
    "        def join(items, axis=None):\n",
    "            return \" \".join([str(item) for item in items])\n",
    "\n",
    "        data = df[self.text_cols].apply(lambda x: \"\" if x.iloc[0] is None else x, axis=1)\n",
    "        texts = data.apply(join, axis=1)\n",
    "        return texts"
   ]
  },
  {
   "cell_type": "code",
   "execution_count": null,
   "id": "b719cb45-f0c7-449a-9ef6-a8116ceb9161",
   "metadata": {},
   "outputs": [],
   "source": [
    "#| hide\n",
    "# do not export because it creates a numpy dependency\n",
    "\n",
    "class TextStats(BaseEstimator, EmptyFitMixin, TransformerMixin):\n",
    "    \"\"\"Extract features from each document\"\"\"\n",
    "\n",
    "    def transform(self, col):\n",
    "        tc = col.str\n",
    "        features = [\n",
    "            tc.len(),  # character count\n",
    "            tc.count(r\"\\n\"),  # line count\n",
    "            tc.count(r\"\\.\"),  # sentence count\n",
    "            tc.split().apply(lambda x: len(x) if x is not None else 0),  # word count\n",
    "        ]\n",
    "        features = np.concatenate([f.values.reshape(-1, 1) for f in features], axis=1)\n",
    "        where_are_NaNs = np.isnan(features)\n",
    "        features[where_are_NaNs] = 0\n",
    "        return features.astype(np.float64)"
   ]
  },
  {
   "cell_type": "code",
   "execution_count": null,
   "id": "ea6e1d34-219c-495d-937c-8eb883dd0390",
   "metadata": {},
   "outputs": [],
   "source": [
    "#|hide\n",
    "# do not export\n",
    "\n",
    "class ColumnSelector(EmptyFitMixin, BaseEstimator, TransformerMixin):\n",
    "    def __init__(self, column, filter_none=True):\n",
    "        self.column = column\n",
    "        self.filter_none = filter_none\n",
    "\n",
    "    def transform(self, df):\n",
    "        col = df[self.column]\n",
    "        if self.filter_none:\n",
    "            col = col.apply(lambda x: \"\" if x is None else x)\n",
    "        return col"
   ]
  },
  {
   "cell_type": "code",
   "execution_count": null,
   "id": "621c2841-7ad0-4101-9dd6-7aa7f1e584d9",
   "metadata": {},
   "outputs": [],
   "source": [
    "#| hide\n",
    "import nbdev; nbdev.nbdev_export()"
   ]
  }
 ],
 "metadata": {
  "kernelspec": {
   "display_name": "python3",
   "language": "python",
   "name": "python3"
  }
 },
 "nbformat": 4,
 "nbformat_minor": 5
}
