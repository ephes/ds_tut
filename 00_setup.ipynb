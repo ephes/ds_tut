{
 "cells": [
  {
   "cell_type": "markdown",
   "id": "a52b7c34-d35c-4c29-9756-235ae6697cff",
   "metadata": {},
   "source": [
    "# setup\n",
    "\n",
    "> Setup a notebook with some useful default settings and imports"
   ]
  },
  {
   "cell_type": "code",
   "execution_count": null,
   "id": "deb446cc-7e22-4c7f-b39d-93f84680d175",
   "metadata": {},
   "outputs": [],
   "source": [
    "#| default_exp setup"
   ]
  },
  {
   "cell_type": "code",
   "execution_count": null,
   "id": "18e07d11-c66d-4a5c-ab3d-7d2d6e29b2a9",
   "metadata": {},
   "outputs": [],
   "source": [
    "#| export\n",
    "\n",
    "from IPython.display import set_matplotlib_formats"
   ]
  },
  {
   "cell_type": "code",
   "execution_count": null,
   "id": "8703b8d4-1f37-4264-be7f-10dcd3c9ee85",
   "metadata": {},
   "outputs": [],
   "source": [
    "#| export\n",
    "\n",
    "def running_in_colab():\n",
    "    try:\n",
    "        if 'google.colab' in str(get_ipython()):\n",
    "          return True\n",
    "    except Exception:\n",
    "        pass\n",
    "    return False\n",
    "\n",
    "\n",
    "def setup_colab():\n",
    "    \"Sets up Colab\"\n",
    "    assert IN_COLAB, \"You do not appear to be running in Colab\"\n",
    "\n",
    "\n",
    "def setup():\n",
    "    \"Sets up ds_tut. First run `%pip install -Uqq ds_tut` in a cell\"\n",
    "    if running_in_colab():\n",
    "        setup_colab()\n",
    "    set_matplotlib_formats(\"retina\")"
   ]
  },
  {
   "cell_type": "code",
   "execution_count": null,
   "id": "61f2f1e2-a7e3-4a87-8a14-2ee490246e05",
   "metadata": {},
   "outputs": [],
   "source": [
    "assert running_in_colab() is False"
   ]
  },
  {
   "cell_type": "code",
   "execution_count": null,
   "id": "c6d9c5be-4375-44d9-8cdd-27538d92551e",
   "metadata": {},
   "outputs": [],
   "source": [
    "#| hide\n",
    "import nbdev; nbdev.nbdev_export()"
   ]
  }
 ],
 "metadata": {
  "kernelspec": {
   "display_name": "python3",
   "language": "python",
   "name": "python3"
  }
 },
 "nbformat": 4,
 "nbformat_minor": 5
}
