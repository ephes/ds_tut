{
 "cells": [
  {
   "cell_type": "markdown",
   "id": "a52b7c34-d35c-4c29-9756-235ae6697cff",
   "metadata": {},
   "source": [
    "# setup\n",
    "\n",
    "> Setup a notebook with some useful default settings and imports"
   ]
  },
  {
   "cell_type": "code",
   "execution_count": null,
   "id": "deb446cc-7e22-4c7f-b39d-93f84680d175",
   "metadata": {},
   "outputs": [],
   "source": []
  }
 ],
 "metadata": {
  "kernelspec": {
   "display_name": "python3",
   "language": "python",
   "name": "python3"
  }
 },
 "nbformat": 4,
 "nbformat_minor": 5
}
